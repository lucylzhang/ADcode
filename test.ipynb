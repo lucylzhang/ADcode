{
 "cells": [
  {
   "cell_type": "code",
   "execution_count": 2,
   "metadata": {
    "collapsed": true
   },
   "outputs": [],
   "source": [
    "import xgboost as xgb\n",
    "import pandas as pd\n",
    "import numpy as np"
   ]
  },
  {
   "cell_type": "code",
   "execution_count": 3,
   "metadata": {
    "collapsed": true
   },
   "outputs": [],
   "source": [
    "# -----------------导入数据，dtrain表示训练数据，dval表示验证数据\n",
    "# -----------------train_label表示训练标签，val_label表示测试标签\n",
    "data_train = pd.read_csv('data_train.csv')\n",
    "data_val = pd.read_csv('data_val.csv')\n",
    "data_train = data_train[data_train['clickTime'] // 10000 < 20]\n",
    "data_train['clickTime'] = data_train['clickTime'] // 100 % 100 * 60 \\\n",
    "                          + data_train['clickTime'] % 100\n",
    "train_label = data_train['label']\n",
    "\n",
    "data_val = data_val[data_val['clickTime'] // 10000 == 20]\n",
    "data_val['clickTime'] = data_val['clickTime'] // 100 % 100 * 60 \\\n",
    "                        + data_val['clickTime'] % 100\n",
    "val_label = data_val['label']\n",
    "\n",
    "data_train.drop(['instanceID', 'label', 'conversionTime'], axis=1, inplace=True)\n",
    "data_val.drop(['instanceID', 'label', 'conversionTime'], axis=1, inplace=True)\n",
    "train_label = train_label.values\n",
    "dtrain = data_train.values\n",
    "val_label = val_label.values\n",
    "dval = data_val.values"
   ]
  },
  {
   "cell_type": "code",
   "execution_count": 4,
   "metadata": {
    "collapsed": true
   },
   "outputs": [],
   "source": [
    "# ------------------获得训练用的xgb数据格式-----------------------------\n",
    "xgb_dtrain = xgb.DMatrix(dtrain, label=train_label, missing=0.0)\n",
    "xgb_dval = xgb.DMatrix(dval, label=val_label, missing=0.0)"
   ]
  },
  {
   "cell_type": "code",
   "execution_count": 63,
   "metadata": {
    "collapsed": true
   },
   "outputs": [],
   "source": [
    "# ------------------ 设置参数 ------------------------------------\n",
    "param = {'bst:max_depth': 5, \n",
    "         'bst:subsample': 0.8,\n",
    "         'bst:min_child_weight': 1,\n",
    "         'bst:colsample_bytree': 0.2,\n",
    "         'bst:eta': 0.2, \n",
    "         'bst:gamma': 0.2,\n",
    "         'bst\"min_child_leaf': 1,\n",
    "         'bst:scale_pos_weight': 0,\n",
    "         #'booster': 'gbtree',\n",
    "         'silent': 0,\n",
    "         'lambda': 10,\n",
    "         'objective': 'binary:logistic',\n",
    "         'eval_metric': 'logloss',\n",
    "         'seed':55 }\n",
    "plst = list(param.items())"
   ]
  },
  {
   "cell_type": "code",
   "execution_count": 64,
   "metadata": {
    "collapsed": true
   },
   "outputs": [],
   "source": [
    "evallist = [(xgb_dtrain, 'train'),(xgb_dval, 'eval')]"
   ]
  },
  {
   "cell_type": "code",
   "execution_count": 65,
   "metadata": {
    "collapsed": false
   },
   "outputs": [
    {
     "name": "stdout",
     "output_type": "stream",
     "text": [
      "[('bst:colsample_bytree', 0.2), ('bst:subsample', 0.8), ('eval_metric', 'logloss'), ('bst:scale_pos_weight', 0), ('bst:eta', 0.2), ('bst\"min_child_leaf', 1), ('silent', 0), ('bst:gamma', 0.2), ('bst:max_depth', 5), ('seed', 55), ('objective', 'binary:logistic'), ('bst:min_child_weight', 1), ('lambda', 10)]\n",
      "[0]\ttrain-logloss:0.463055\teval-logloss:0.462051\n",
      "Multiple eval metrics have been passed: 'eval-logloss' will be used for early stopping.\n",
      "\n",
      "Will train until eval-logloss hasn't improved in 10 rounds.\n",
      "[1]\ttrain-logloss:0.337166\teval-logloss:0.334813\n",
      "[2]\ttrain-logloss:0.259538\teval-logloss:0.256319\n",
      "[3]\ttrain-logloss:0.209136\teval-logloss:0.205202\n",
      "[4]\ttrain-logloss:0.175575\teval-logloss:0.17109\n",
      "[5]\ttrain-logloss:0.152999\teval-logloss:0.148126\n",
      "[6]\ttrain-logloss:0.137702\teval-logloss:0.132453\n",
      "[7]\ttrain-logloss:0.127353\teval-logloss:0.121927\n",
      "[8]\ttrain-logloss:0.120316\teval-logloss:0.114679\n",
      "[9]\ttrain-logloss:0.115656\teval-logloss:0.109967\n",
      "[10]\ttrain-logloss:0.112504\teval-logloss:0.106785\n",
      "[11]\ttrain-logloss:0.110445\teval-logloss:0.104794\n",
      "[12]\ttrain-logloss:0.109067\teval-logloss:0.103485\n",
      "[13]\ttrain-logloss:0.108045\teval-logloss:0.102606\n",
      "[14]\ttrain-logloss:0.10735\teval-logloss:0.101977\n",
      "[15]\ttrain-logloss:0.106718\teval-logloss:0.10135\n",
      "[16]\ttrain-logloss:0.106321\teval-logloss:0.101067\n",
      "[17]\ttrain-logloss:0.106004\teval-logloss:0.100849\n",
      "[18]\ttrain-logloss:0.105709\teval-logloss:0.100726\n",
      "[19]\ttrain-logloss:0.105322\teval-logloss:0.100473\n",
      "[20]\ttrain-logloss:0.105002\teval-logloss:0.100252\n",
      "[21]\ttrain-logloss:0.104804\teval-logloss:0.10018\n",
      "[22]\ttrain-logloss:0.104598\teval-logloss:0.100106\n",
      "[23]\ttrain-logloss:0.104438\teval-logloss:0.100034\n",
      "[24]\ttrain-logloss:0.104054\teval-logloss:0.099881\n",
      "[25]\ttrain-logloss:0.103896\teval-logloss:0.099775\n",
      "[26]\ttrain-logloss:0.103689\teval-logloss:0.09967\n",
      "[27]\ttrain-logloss:0.103573\teval-logloss:0.099652\n",
      "[28]\ttrain-logloss:0.103423\teval-logloss:0.099626\n",
      "[29]\ttrain-logloss:0.103165\teval-logloss:0.099548\n",
      "[30]\ttrain-logloss:0.103097\teval-logloss:0.099538\n",
      "[31]\ttrain-logloss:0.102902\teval-logloss:0.099443\n",
      "[32]\ttrain-logloss:0.102823\teval-logloss:0.099433\n",
      "[33]\ttrain-logloss:0.102561\teval-logloss:0.099388\n",
      "[34]\ttrain-logloss:0.102519\teval-logloss:0.099386\n",
      "[35]\ttrain-logloss:0.102373\teval-logloss:0.099372\n",
      "[36]\ttrain-logloss:0.102292\teval-logloss:0.099372\n",
      "[37]\ttrain-logloss:0.102235\teval-logloss:0.09939\n",
      "[38]\ttrain-logloss:0.102127\teval-logloss:0.099312\n",
      "[39]\ttrain-logloss:0.102004\teval-logloss:0.099298\n",
      "[40]\ttrain-logloss:0.101847\teval-logloss:0.099288\n",
      "[41]\ttrain-logloss:0.101748\teval-logloss:0.099267\n",
      "[42]\ttrain-logloss:0.101645\teval-logloss:0.09925\n",
      "[43]\ttrain-logloss:0.101592\teval-logloss:0.099225\n",
      "[44]\ttrain-logloss:0.101542\teval-logloss:0.099211\n",
      "[45]\ttrain-logloss:0.101472\teval-logloss:0.099217\n",
      "[46]\ttrain-logloss:0.101366\teval-logloss:0.099164\n",
      "[47]\ttrain-logloss:0.101243\teval-logloss:0.099177\n",
      "[48]\ttrain-logloss:0.101141\teval-logloss:0.09917\n",
      "[49]\ttrain-logloss:0.100946\teval-logloss:0.099146\n",
      "[50]\ttrain-logloss:0.100822\teval-logloss:0.099096\n",
      "[51]\ttrain-logloss:0.100768\teval-logloss:0.099126\n",
      "[52]\ttrain-logloss:0.100742\teval-logloss:0.099131\n",
      "[53]\ttrain-logloss:0.100661\teval-logloss:0.099094\n",
      "[54]\ttrain-logloss:0.10062\teval-logloss:0.099083\n",
      "[55]\ttrain-logloss:0.100559\teval-logloss:0.099079\n",
      "[56]\ttrain-logloss:0.100437\teval-logloss:0.099101\n",
      "[57]\ttrain-logloss:0.10037\teval-logloss:0.099073\n",
      "[58]\ttrain-logloss:0.10024\teval-logloss:0.099078\n",
      "[59]\ttrain-logloss:0.100188\teval-logloss:0.099079\n",
      "[60]\ttrain-logloss:0.100118\teval-logloss:0.099094\n",
      "[61]\ttrain-logloss:0.100046\teval-logloss:0.099091\n",
      "[62]\ttrain-logloss:0.099896\teval-logloss:0.099107\n",
      "[63]\ttrain-logloss:0.099753\teval-logloss:0.099126\n",
      "[64]\ttrain-logloss:0.099706\teval-logloss:0.09912\n",
      "[65]\ttrain-logloss:0.099663\teval-logloss:0.099125\n",
      "[66]\ttrain-logloss:0.099606\teval-logloss:0.099146\n",
      "[67]\ttrain-logloss:0.099511\teval-logloss:0.09911\n",
      "Stopping. Best iteration:\n",
      "[57]\ttrain-logloss:0.10037\teval-logloss:0.099073\n",
      "\n"
     ]
    }
   ],
   "source": [
    "num_round =100000\n",
    "print plst\n",
    "bst = xgb.train(plst, xgb_dtrain, num_round, evallist, early_stopping_rounds=10)"
   ]
  },
  {
   "cell_type": "code",
   "execution_count": 66,
   "metadata": {
    "collapsed": true
   },
   "outputs": [],
   "source": [
    "# ------保存模型-----------------\n",
    "bst.dump_model('dump099073.raw.txt')\n",
    "# bst.dump_model('dump.raw.txt', 'featmap.txt')"
   ]
  },
  {
   "cell_type": "code",
   "execution_count": 67,
   "metadata": {
    "collapsed": true
   },
   "outputs": [],
   "source": [
    "# --------------读入数据并调用模型进行预测-----------------\n",
    "test = pd.read_csv('test_all.csv')\n",
    "test_ = test.drop(['instanceID', 'label'], axis=1)\n",
    "xgb_dtest = xgb.DMatrix(test_.values, missing=0.0)\n",
    "ypred = bst.predict(xgb_dtest, ntree_limit=bst.best_iteration)"
   ]
  },
  {
   "cell_type": "code",
   "execution_count": 68,
   "metadata": {
    "collapsed": true
   },
   "outputs": [],
   "source": [
    "# ----------------保存预测结果-------------------------\n",
    "test['pred'] = ypred\n",
    "test[['instanceID','pred']].to_csv('099073.csv',index=None)"
   ]
  },
  {
   "cell_type": "code",
   "execution_count": null,
   "metadata": {
    "collapsed": true
   },
   "outputs": [],
   "source": []
  }
 ],
 "metadata": {
  "kernelspec": {
   "display_name": "Python [Root]",
   "language": "python",
   "name": "Python [Root]"
  },
  "language_info": {
   "codemirror_mode": {
    "name": "ipython",
    "version": 3
   },
   "file_extension": ".py",
   "mimetype": "text/x-python",
   "name": "python",
   "nbconvert_exporter": "python",
   "pygments_lexer": "ipython3",
   "version": "3.5.2"
  }
 },
 "nbformat": 4,
 "nbformat_minor": 0
}
